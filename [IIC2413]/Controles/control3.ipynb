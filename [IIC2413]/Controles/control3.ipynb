{
 "cells": [
  {
   "cell_type": "code",
   "execution_count": null,
   "metadata": {
    "colab": {
     "base_uri": "https://localhost:8080/"
    },
    "id": "sBDirdKpAexk",
    "outputId": "80ae8b8c-49bd-4a70-d73c-6df6837c5a18"
   },
   "outputs": [],
   "source": [
    "!pip install --upgrade --no-cache-dir gdown\n",
    "!gdown https://drive.google.com/uc?id=1mGxfX7NKoKxlpaQxvCZzq6niLpf3Ziaq"
   ]
  },
  {
   "cell_type": "code",
   "execution_count": null,
   "metadata": {
    "colab": {
     "base_uri": "https://localhost:8080/"
    },
    "id": "7kQZDmJmAkyc",
    "outputId": "d76f301e-1624-4601-d34c-82150ed096e4"
   },
   "outputs": [],
   "source": [
    "!unzip \"VW_VOTARON_2020PLEB_Datos_completos.zip\""
   ]
  },
  {
   "cell_type": "code",
   "execution_count": 1,
   "metadata": {
    "id": "aoNEJ0DJAnWw"
   },
   "outputs": [],
   "source": [
    "import pandas as pd"
   ]
  },
  {
   "cell_type": "code",
   "execution_count": 2,
   "metadata": {
    "id": "CGop1xFWAp7X"
   },
   "outputs": [],
   "source": [
    "df = pd.read_csv('VW_VOTARON_2020PLEB_Datos completos.csv', sep=';')"
   ]
  },
  {
   "cell_type": "code",
   "execution_count": 4,
   "metadata": {
    "colab": {
     "base_uri": "https://localhost:8080/",
     "height": 548
    },
    "id": "_1FUo9TXA4B7",
    "outputId": "da0799f8-cc6a-4f82-c9e5-4ff9e5af200a"
   },
   "outputs": [],
   "source": [
    "df.head(5)"
   ]
  },
  {
   "cell_type": "markdown",
   "metadata": {
    "id": "nvX7ojdvUm_n"
   },
   "source": [
    "**Para este control trabajaremos con una base de datos real (anonimizada) del SERVEL acerca del plebiscito, he indica si cada ciudadano voto o no en el plebiscito del 2020.**"
   ]
  },
  {
   "cell_type": "markdown",
   "metadata": {
    "id": "jDQSGf6eNC8L"
   },
   "source": [
    "# Pregunta 1\n",
    "Reemplaze en la columna 'Votaron' los NaN por 0."
   ]
  },
  {
   "cell_type": "code",
   "execution_count": 5,
   "metadata": {
    "id": "4a-bsuqRcTaN"
   },
   "outputs": [],
   "source": [
    "df['Votaron'] = df['Votaron'].fillna(0)"
   ]
  },
  {
   "cell_type": "markdown",
   "metadata": {
    "id": "acFzjOCIBzsa"
   },
   "source": [
    "# Pregunta 2 \n",
    "Calcule la cantidad de registros de la tabla."
   ]
  },
  {
   "cell_type": "code",
   "execution_count": 6,
   "metadata": {
    "id": "4JEIZZUgcTvT",
    "scrolled": true
   },
   "outputs": [
    {
     "data": {
      "text/plain": [
       "14855719"
      ]
     },
     "execution_count": 6,
     "metadata": {},
     "output_type": "execute_result"
    }
   ],
   "source": [
    "df.shape[0]"
   ]
  },
  {
   "cell_type": "markdown",
   "metadata": {
    "id": "_Fl7cmNEBBug"
   },
   "source": [
    "**Para las siguientes preguntas, suponga que la columna 'Votaron' es un atributo sensible, y suponga que las columns 'Edad', 'Pais Nacimiento', 'Sexo' , 'Comuna' son quasi-identificadores.**\n",
    "\n",
    "# Pregunta 3\n",
    "Calcule el nivel de $k$-anonimato para los quasi-indentificadores.\n",
    "Hint: puede usar la columna 'Número de registros' para contar."
   ]
  },
  {
   "cell_type": "code",
   "execution_count": 7,
   "metadata": {},
   "outputs": [
    {
     "data": {
      "text/html": [
       "<div>\n",
       "<style scoped>\n",
       "    .dataframe tbody tr th:only-of-type {\n",
       "        vertical-align: middle;\n",
       "    }\n",
       "\n",
       "    .dataframe tbody tr th {\n",
       "        vertical-align: top;\n",
       "    }\n",
       "\n",
       "    .dataframe thead th {\n",
       "        text-align: right;\n",
       "    }\n",
       "</style>\n",
       "<table border=\"1\" class=\"dataframe\">\n",
       "  <thead>\n",
       "    <tr style=\"text-align: right;\">\n",
       "      <th></th>\n",
       "      <th></th>\n",
       "      <th></th>\n",
       "      <th></th>\n",
       "      <th>Número de registros</th>\n",
       "    </tr>\n",
       "    <tr>\n",
       "      <th>Edad</th>\n",
       "      <th>Pais Nacimiento</th>\n",
       "      <th>Sexo</th>\n",
       "      <th>Comuna</th>\n",
       "      <th></th>\n",
       "    </tr>\n",
       "  </thead>\n",
       "  <tbody>\n",
       "    <tr>\n",
       "      <th>53</th>\n",
       "      <th>Suiza</th>\n",
       "      <th>masculino</th>\n",
       "      <th>Peñalolen</th>\n",
       "      <td>1</td>\n",
       "    </tr>\n",
       "    <tr>\n",
       "      <th rowspan=\"4\" valign=\"top\">54</th>\n",
       "      <th rowspan=\"3\" valign=\"top\">Guatemala</th>\n",
       "      <th rowspan=\"3\" valign=\"top\">femenino</th>\n",
       "      <th>Quillota</th>\n",
       "      <td>1</td>\n",
       "    </tr>\n",
       "    <tr>\n",
       "      <th>Providencia</th>\n",
       "      <td>1</td>\n",
       "    </tr>\n",
       "    <tr>\n",
       "      <th>Cerrillos</th>\n",
       "      <td>1</td>\n",
       "    </tr>\n",
       "    <tr>\n",
       "      <th>Francia</th>\n",
       "      <th>masculino</th>\n",
       "      <th>Viña Del Mar</th>\n",
       "      <td>1</td>\n",
       "    </tr>\n",
       "    <tr>\n",
       "      <th>...</th>\n",
       "      <th>...</th>\n",
       "      <th>...</th>\n",
       "      <th>...</th>\n",
       "      <td>...</td>\n",
       "    </tr>\n",
       "    <tr>\n",
       "      <th>29</th>\n",
       "      <th>Chile</th>\n",
       "      <th>femenino</th>\n",
       "      <th>Puente Alto</th>\n",
       "      <td>5123</td>\n",
       "    </tr>\n",
       "    <tr>\n",
       "      <th>27</th>\n",
       "      <th>Chile</th>\n",
       "      <th>masculino</th>\n",
       "      <th>Puente Alto</th>\n",
       "      <td>5143</td>\n",
       "    </tr>\n",
       "    <tr>\n",
       "      <th>30</th>\n",
       "      <th>Chile</th>\n",
       "      <th>masculino</th>\n",
       "      <th>Puente Alto</th>\n",
       "      <td>5209</td>\n",
       "    </tr>\n",
       "    <tr>\n",
       "      <th>29</th>\n",
       "      <th>Chile</th>\n",
       "      <th>masculino</th>\n",
       "      <th>Puente Alto</th>\n",
       "      <td>5214</td>\n",
       "    </tr>\n",
       "    <tr>\n",
       "      <th>28</th>\n",
       "      <th>Chile</th>\n",
       "      <th>masculino</th>\n",
       "      <th>Puente Alto</th>\n",
       "      <td>5246</td>\n",
       "    </tr>\n",
       "  </tbody>\n",
       "</table>\n",
       "<p>166930 rows × 1 columns</p>\n",
       "</div>"
      ],
      "text/plain": [
       "                                             Número de registros\n",
       "Edad Pais Nacimiento Sexo      Comuna                           \n",
       "53   Suiza           masculino Peñalolen                       1\n",
       "54   Guatemala       femenino  Quillota                        1\n",
       "                               Providencia                     1\n",
       "                               Cerrillos                       1\n",
       "     Francia         masculino Viña Del Mar                    1\n",
       "...                                                          ...\n",
       "29   Chile           femenino  Puente Alto                  5123\n",
       "27   Chile           masculino Puente Alto                  5143\n",
       "30   Chile           masculino Puente Alto                  5209\n",
       "29   Chile           masculino Puente Alto                  5214\n",
       "28   Chile           masculino Puente Alto                  5246\n",
       "\n",
       "[166930 rows x 1 columns]"
      ]
     },
     "execution_count": 7,
     "metadata": {},
     "output_type": "execute_result"
    }
   ],
   "source": [
    "p3=df[['Edad', 'Pais Nacimiento', 'Sexo' , 'Comuna','Número de registros']].groupby(['Edad', 'Pais Nacimiento', 'Sexo' , 'Comuna']).count().sort_values('Número de registros')\n",
    "p3"
   ]
  },
  {
   "cell_type": "code",
   "execution_count": 8,
   "metadata": {},
   "outputs": [
    {
     "name": "stdout",
     "output_type": "stream",
     "text": [
      "El nivel de 𝑘-anonimato obtenido fue de 1\n"
     ]
    }
   ],
   "source": [
    "print(f\"El nivel de 𝑘-anonimato obtenido fue de {p3.min()[0]}\")"
   ]
  },
  {
   "cell_type": "markdown",
   "metadata": {
    "id": "-GYRxO34EYRa"
   },
   "source": [
    "# Pregunta 4\n",
    "Indique con 100% de certeza, todos los atributos de 5 individuos que no hayan votado en el plebiscito."
   ]
  },
  {
   "cell_type": "code",
   "execution_count": 10,
   "metadata": {
    "id": "fyV-lQAzccf5"
   },
   "outputs": [],
   "source": [
    "p4_1= df.query(\"Votaron == 0.0 \")\n"
   ]
  },
  {
   "cell_type": "code",
   "execution_count": 11,
   "metadata": {},
   "outputs": [],
   "source": [
    "p4_2=p4_1[['Edad', 'Pais Nacimiento', 'Sexo' , 'Comuna','Número de registros']].groupby(['Edad', 'Pais Nacimiento', 'Sexo' , 'Comuna']).count().sort_values('Número de registros')\n"
   ]
  },
  {
   "cell_type": "code",
   "execution_count": 12,
   "metadata": {},
   "outputs": [],
   "source": [
    "p4_3=p4_2[p4_2['Número de registros']==1]\n"
   ]
  },
  {
   "cell_type": "code",
   "execution_count": 14,
   "metadata": {},
   "outputs": [
    {
     "data": {
      "text/html": [
       "<div>\n",
       "<style scoped>\n",
       "    .dataframe tbody tr th:only-of-type {\n",
       "        vertical-align: middle;\n",
       "    }\n",
       "\n",
       "    .dataframe tbody tr th {\n",
       "        vertical-align: top;\n",
       "    }\n",
       "\n",
       "    .dataframe thead th {\n",
       "        text-align: right;\n",
       "    }\n",
       "</style>\n",
       "<table border=\"1\" class=\"dataframe\">\n",
       "  <thead>\n",
       "    <tr style=\"text-align: right;\">\n",
       "      <th></th>\n",
       "      <th>Cedula</th>\n",
       "      <th>Circunscripcion</th>\n",
       "      <th>Comuna</th>\n",
       "      <th>DV</th>\n",
       "      <th>Edad</th>\n",
       "      <th>Nacionalidad</th>\n",
       "      <th>Pais Domicilio</th>\n",
       "      <th>Pais Nacimiento</th>\n",
       "      <th>Partido</th>\n",
       "      <th>Provincia</th>\n",
       "      <th>Rango Edad</th>\n",
       "      <th>Region</th>\n",
       "      <th>Sexo</th>\n",
       "      <th>Sufragio</th>\n",
       "      <th>VotoExterior</th>\n",
       "      <th>Número de registros_x</th>\n",
       "      <th>Votaron</th>\n",
       "      <th>Número de registros_y</th>\n",
       "    </tr>\n",
       "  </thead>\n",
       "  <tbody>\n",
       "    <tr>\n",
       "      <th>0</th>\n",
       "      <td>0</td>\n",
       "      <td>Freire</td>\n",
       "      <td>Freire</td>\n",
       "      <td>0</td>\n",
       "      <td>138</td>\n",
       "      <td>chilena</td>\n",
       "      <td>Chile</td>\n",
       "      <td>Chile</td>\n",
       "      <td>SIN PARTIDO</td>\n",
       "      <td>Cautin</td>\n",
       "      <td>80 o +</td>\n",
       "      <td>De La Araucania</td>\n",
       "      <td>masculino</td>\n",
       "      <td>no sufragó</td>\n",
       "      <td>Nacional</td>\n",
       "      <td>1</td>\n",
       "      <td>0.0</td>\n",
       "      <td>1</td>\n",
       "    </tr>\n",
       "    <tr>\n",
       "      <th>1</th>\n",
       "      <td>0</td>\n",
       "      <td>Independencia</td>\n",
       "      <td>Independencia</td>\n",
       "      <td>0</td>\n",
       "      <td>64</td>\n",
       "      <td>extranjero</td>\n",
       "      <td>Chile</td>\n",
       "      <td>Argentina</td>\n",
       "      <td>SIN PARTIDO</td>\n",
       "      <td>Santiago</td>\n",
       "      <td>60-64</td>\n",
       "      <td>Metropolitana De Santiago</td>\n",
       "      <td>masculino</td>\n",
       "      <td>no sufragó</td>\n",
       "      <td>Nacional</td>\n",
       "      <td>1</td>\n",
       "      <td>0.0</td>\n",
       "      <td>1</td>\n",
       "    </tr>\n",
       "    <tr>\n",
       "      <th>2</th>\n",
       "      <td>0</td>\n",
       "      <td>Futaleufu</td>\n",
       "      <td>Futaleufu</td>\n",
       "      <td>0</td>\n",
       "      <td>64</td>\n",
       "      <td>extranjero</td>\n",
       "      <td>Chile</td>\n",
       "      <td>Argentina</td>\n",
       "      <td>SIN PARTIDO</td>\n",
       "      <td>Palena</td>\n",
       "      <td>60-64</td>\n",
       "      <td>De Los Lagos</td>\n",
       "      <td>masculino</td>\n",
       "      <td>no sufragó</td>\n",
       "      <td>Nacional</td>\n",
       "      <td>1</td>\n",
       "      <td>0.0</td>\n",
       "      <td>1</td>\n",
       "    </tr>\n",
       "    <tr>\n",
       "      <th>3</th>\n",
       "      <td>0</td>\n",
       "      <td>Frutillar</td>\n",
       "      <td>Frutillar</td>\n",
       "      <td>0</td>\n",
       "      <td>64</td>\n",
       "      <td>extranjero</td>\n",
       "      <td>Chile</td>\n",
       "      <td>Argentina</td>\n",
       "      <td>SIN PARTIDO</td>\n",
       "      <td>Llanquihue</td>\n",
       "      <td>60-64</td>\n",
       "      <td>De Los Lagos</td>\n",
       "      <td>masculino</td>\n",
       "      <td>no sufragó</td>\n",
       "      <td>Nacional</td>\n",
       "      <td>1</td>\n",
       "      <td>0.0</td>\n",
       "      <td>1</td>\n",
       "    </tr>\n",
       "    <tr>\n",
       "      <th>4</th>\n",
       "      <td>0</td>\n",
       "      <td>Bellavista</td>\n",
       "      <td>La Florida</td>\n",
       "      <td>0</td>\n",
       "      <td>40</td>\n",
       "      <td>extranjero</td>\n",
       "      <td>Chile</td>\n",
       "      <td>Paraguay</td>\n",
       "      <td>SIN PARTIDO</td>\n",
       "      <td>Santiago</td>\n",
       "      <td>40-44</td>\n",
       "      <td>Metropolitana De Santiago</td>\n",
       "      <td>masculino</td>\n",
       "      <td>no sufragó</td>\n",
       "      <td>Nacional</td>\n",
       "      <td>1</td>\n",
       "      <td>0.0</td>\n",
       "      <td>1</td>\n",
       "    </tr>\n",
       "  </tbody>\n",
       "</table>\n",
       "</div>"
      ],
      "text/plain": [
       "   Cedula Circunscripcion         Comuna  DV  Edad Nacionalidad  \\\n",
       "0       0          Freire         Freire   0   138      chilena   \n",
       "1       0   Independencia  Independencia   0    64   extranjero   \n",
       "2       0       Futaleufu      Futaleufu   0    64   extranjero   \n",
       "3       0       Frutillar      Frutillar   0    64   extranjero   \n",
       "4       0      Bellavista     La Florida   0    40   extranjero   \n",
       "\n",
       "  Pais Domicilio Pais Nacimiento      Partido   Provincia Rango Edad  \\\n",
       "0          Chile           Chile  SIN PARTIDO      Cautin     80 o +   \n",
       "1          Chile       Argentina  SIN PARTIDO    Santiago      60-64   \n",
       "2          Chile       Argentina  SIN PARTIDO      Palena      60-64   \n",
       "3          Chile       Argentina  SIN PARTIDO  Llanquihue      60-64   \n",
       "4          Chile        Paraguay  SIN PARTIDO    Santiago      40-44   \n",
       "\n",
       "                      Region       Sexo    Sufragio VotoExterior  \\\n",
       "0            De La Araucania  masculino  no sufragó     Nacional   \n",
       "1  Metropolitana De Santiago  masculino  no sufragó     Nacional   \n",
       "2               De Los Lagos  masculino  no sufragó     Nacional   \n",
       "3               De Los Lagos  masculino  no sufragó     Nacional   \n",
       "4  Metropolitana De Santiago  masculino  no sufragó     Nacional   \n",
       "\n",
       "   Número de registros_x  Votaron  Número de registros_y  \n",
       "0                      1      0.0                      1  \n",
       "1                      1      0.0                      1  \n",
       "2                      1      0.0                      1  \n",
       "3                      1      0.0                      1  \n",
       "4                      1      0.0                      1  "
      ]
     },
     "execution_count": 14,
     "metadata": {},
     "output_type": "execute_result"
    }
   ],
   "source": [
    "final  = pd.merge(p4_1, p4_3, how ='right', on =['Edad', 'Pais Nacimiento', 'Sexo' , 'Comuna'])\n",
    "final.head(5)"
   ]
  },
  {
   "cell_type": "markdown",
   "metadata": {
    "id": "s6meu0wfHgwD"
   },
   "source": [
    "# Pregunta 5.1\n",
    "Generalize la columna 'Edad' usando la columna 'Rango Edad', 'Comuna' usando la columna 'Región', y  'Pais Nacimiento' por los valores 'Chile' o 'Extranjero'.\n",
    "Indique el nivel de $k$-anonimato obtenido."
   ]
  },
  {
   "cell_type": "code",
   "execution_count": 15,
   "metadata": {},
   "outputs": [],
   "source": [
    "extranjeros = df[(df['Pais Nacimiento'] != 'Chile')]\n"
   ]
  },
  {
   "cell_type": "code",
   "execution_count": 17,
   "metadata": {},
   "outputs": [
    {
     "name": "stderr",
     "output_type": "stream",
     "text": [
      "C:\\Users\\nolat\\AppData\\Local\\Programs\\Python\\Python38\\lib\\site-packages\\pandas\\core\\indexing.py:1817: SettingWithCopyWarning: \n",
      "A value is trying to be set on a copy of a slice from a DataFrame.\n",
      "Try using .loc[row_indexer,col_indexer] = value instead\n",
      "\n",
      "See the caveats in the documentation: https://pandas.pydata.org/pandas-docs/stable/user_guide/indexing.html#returning-a-view-versus-a-copy\n",
      "  self._setitem_single_column(loc, value, pi)\n"
     ]
    }
   ],
   "source": [
    "extranjeros.loc[:, 'Pais Nacimiento'] = 'Extranjero'\n"
   ]
  },
  {
   "cell_type": "markdown",
   "metadata": {},
   "source": [
    "Si funciona el comando, solo me da un warning!, pero acá cambio toda esa columna por 'Extranjero'"
   ]
  },
  {
   "cell_type": "code",
   "execution_count": 18,
   "metadata": {},
   "outputs": [],
   "source": [
    "chilenos = df[(df['Pais Nacimiento'] == 'Chile')]\n"
   ]
  },
  {
   "cell_type": "code",
   "execution_count": 20,
   "metadata": {},
   "outputs": [],
   "source": [
    "p5= pd.concat([extranjeros, chilenos])"
   ]
  },
  {
   "cell_type": "markdown",
   "metadata": {},
   "source": [
    "Uno tablas de Extranjeros(editada) y chilenos para agruparlas y obtener el k-anonimato"
   ]
  },
  {
   "cell_type": "code",
   "execution_count": 21,
   "metadata": {},
   "outputs": [
    {
     "data": {
      "text/html": [
       "<div>\n",
       "<style scoped>\n",
       "    .dataframe tbody tr th:only-of-type {\n",
       "        vertical-align: middle;\n",
       "    }\n",
       "\n",
       "    .dataframe tbody tr th {\n",
       "        vertical-align: top;\n",
       "    }\n",
       "\n",
       "    .dataframe thead th {\n",
       "        text-align: right;\n",
       "    }\n",
       "</style>\n",
       "<table border=\"1\" class=\"dataframe\">\n",
       "  <thead>\n",
       "    <tr style=\"text-align: right;\">\n",
       "      <th></th>\n",
       "      <th></th>\n",
       "      <th></th>\n",
       "      <th></th>\n",
       "      <th>Número de registros</th>\n",
       "    </tr>\n",
       "    <tr>\n",
       "      <th>Rango Edad</th>\n",
       "      <th>Pais Nacimiento</th>\n",
       "      <th>Sexo</th>\n",
       "      <th>Region</th>\n",
       "      <th></th>\n",
       "    </tr>\n",
       "  </thead>\n",
       "  <tbody>\n",
       "    <tr>\n",
       "      <th>18 a 19</th>\n",
       "      <th>Extranjero</th>\n",
       "      <th>femenino</th>\n",
       "      <th>De Los Rios</th>\n",
       "      <td>1</td>\n",
       "    </tr>\n",
       "    <tr>\n",
       "      <th>70-74</th>\n",
       "      <th>Extranjero</th>\n",
       "      <th>femenino</th>\n",
       "      <th>De Aysen Del General Carlos Ibañez Del Campo</th>\n",
       "      <td>3</td>\n",
       "    </tr>\n",
       "    <tr>\n",
       "      <th>75-79</th>\n",
       "      <th>Extranjero</th>\n",
       "      <th>femenino</th>\n",
       "      <th>De Aysen Del General Carlos Ibañez Del Campo</th>\n",
       "      <td>6</td>\n",
       "    </tr>\n",
       "    <tr>\n",
       "      <th>20-24</th>\n",
       "      <th>Extranjero</th>\n",
       "      <th>femenino</th>\n",
       "      <th>De Aysen Del General Carlos Ibañez Del Campo</th>\n",
       "      <td>6</td>\n",
       "    </tr>\n",
       "    <tr>\n",
       "      <th>18 a 19</th>\n",
       "      <th>Extranjero</th>\n",
       "      <th>femenino</th>\n",
       "      <th>De Ñuble</th>\n",
       "      <td>6</td>\n",
       "    </tr>\n",
       "    <tr>\n",
       "      <th>...</th>\n",
       "      <th>...</th>\n",
       "      <th>...</th>\n",
       "      <th>...</th>\n",
       "      <td>...</td>\n",
       "    </tr>\n",
       "    <tr>\n",
       "      <th>35-39</th>\n",
       "      <th>Chile</th>\n",
       "      <th>masculino</th>\n",
       "      <th>Metropolitana De Santiago</th>\n",
       "      <td>257260</td>\n",
       "    </tr>\n",
       "    <tr>\n",
       "      <th>25-29</th>\n",
       "      <th>Chile</th>\n",
       "      <th>femenino</th>\n",
       "      <th>Metropolitana De Santiago</th>\n",
       "      <td>277837</td>\n",
       "    </tr>\n",
       "    <tr>\n",
       "      <th>30-34</th>\n",
       "      <th>Chile</th>\n",
       "      <th>femenino</th>\n",
       "      <th>Metropolitana De Santiago</th>\n",
       "      <td>282399</td>\n",
       "    </tr>\n",
       "    <tr>\n",
       "      <th>25-29</th>\n",
       "      <th>Chile</th>\n",
       "      <th>masculino</th>\n",
       "      <th>Metropolitana De Santiago</th>\n",
       "      <td>283588</td>\n",
       "    </tr>\n",
       "    <tr>\n",
       "      <th>30-34</th>\n",
       "      <th>Chile</th>\n",
       "      <th>masculino</th>\n",
       "      <th>Metropolitana De Santiago</th>\n",
       "      <td>288647</td>\n",
       "    </tr>\n",
       "  </tbody>\n",
       "</table>\n",
       "<p>896 rows × 1 columns</p>\n",
       "</div>"
      ],
      "text/plain": [
       "                                                                                   Número de registros\n",
       "Rango Edad Pais Nacimiento Sexo      Region                                                           \n",
       "18 a 19    Extranjero      femenino  De Los Rios                                                     1\n",
       "70-74      Extranjero      femenino  De Aysen Del General Carlos Ibañez Del Campo                    3\n",
       "75-79      Extranjero      femenino  De Aysen Del General Carlos Ibañez Del Campo                    6\n",
       "20-24      Extranjero      femenino  De Aysen Del General Carlos Ibañez Del Campo                    6\n",
       "18 a 19    Extranjero      femenino  De Ñuble                                                        6\n",
       "...                                                                                                ...\n",
       "35-39      Chile           masculino Metropolitana De Santiago                                  257260\n",
       "25-29      Chile           femenino  Metropolitana De Santiago                                  277837\n",
       "30-34      Chile           femenino  Metropolitana De Santiago                                  282399\n",
       "25-29      Chile           masculino Metropolitana De Santiago                                  283588\n",
       "30-34      Chile           masculino Metropolitana De Santiago                                  288647\n",
       "\n",
       "[896 rows x 1 columns]"
      ]
     },
     "execution_count": 21,
     "metadata": {},
     "output_type": "execute_result"
    }
   ],
   "source": [
    "p5_1=p5[['Rango Edad', 'Pais Nacimiento', 'Sexo' , 'Region','Número de registros']].groupby(['Rango Edad', 'Pais Nacimiento', 'Sexo' , 'Region']).count().sort_values('Número de registros')\n",
    "p5_1"
   ]
  },
  {
   "cell_type": "code",
   "execution_count": 22,
   "metadata": {},
   "outputs": [
    {
     "name": "stdout",
     "output_type": "stream",
     "text": [
      "El nivel de 𝑘-anonimato obtenido fue de 1\n"
     ]
    }
   ],
   "source": [
    "print(f\"El nivel de 𝑘-anonimato obtenido fue de {p5_1.min()[0]}\")"
   ]
  },
  {
   "cell_type": "markdown",
   "metadata": {
    "id": "CVX7frMUJ4bS"
   },
   "source": [
    "# Pregunta 5.2\n",
    "Utilize alguna técnica para obtener al menos $3$-anonimato."
   ]
  },
  {
   "cell_type": "markdown",
   "metadata": {
    "id": "XmBJjZzAcgFP"
   },
   "source": [
    "$\\rightarrow$ Para esto eliminaremos los outliers (valor atípicos).\n",
    "<br>\n",
    "Para esto eliminamos al grupo que tiene 1 numero de registros (1 persona).\n",
    "<br>\n",
    "Quitaremos este valor atípico cambiando en el dataframe el 'Rango Edad' de 18 a 19 $\\rightarrow$ de 18-24.\n",
    "<br>\n",
    "Así, obtendremos que salga el valor atípico cumpliendo con lo pedido."
   ]
  },
  {
   "cell_type": "code",
   "execution_count": 24,
   "metadata": {},
   "outputs": [],
   "source": [
    "cambio_edad = p5\n",
    "cambio_edad.rename(columns = {'Rango Edad':'Rango_Edad'}, inplace = True)\n",
    "cambio_edad.loc[cambio_edad.Rango_Edad == '18 a 19', 'Rango_Edad'] = '18-24'\n",
    "cambio_edad.loc[cambio_edad.Rango_Edad =='20-24', 'Rango_Edad'] = '18-24'"
   ]
  },
  {
   "cell_type": "code",
   "execution_count": 25,
   "metadata": {},
   "outputs": [
    {
     "data": {
      "text/html": [
       "<div>\n",
       "<style scoped>\n",
       "    .dataframe tbody tr th:only-of-type {\n",
       "        vertical-align: middle;\n",
       "    }\n",
       "\n",
       "    .dataframe tbody tr th {\n",
       "        vertical-align: top;\n",
       "    }\n",
       "\n",
       "    .dataframe thead th {\n",
       "        text-align: right;\n",
       "    }\n",
       "</style>\n",
       "<table border=\"1\" class=\"dataframe\">\n",
       "  <thead>\n",
       "    <tr style=\"text-align: right;\">\n",
       "      <th></th>\n",
       "      <th></th>\n",
       "      <th></th>\n",
       "      <th></th>\n",
       "      <th>Número de registros</th>\n",
       "    </tr>\n",
       "    <tr>\n",
       "      <th>Rango_Edad</th>\n",
       "      <th>Pais Nacimiento</th>\n",
       "      <th>Sexo</th>\n",
       "      <th>Region</th>\n",
       "      <th></th>\n",
       "    </tr>\n",
       "  </thead>\n",
       "  <tbody>\n",
       "    <tr>\n",
       "      <th>70-74</th>\n",
       "      <th>Extranjero</th>\n",
       "      <th>femenino</th>\n",
       "      <th>De Aysen Del General Carlos Ibañez Del Campo</th>\n",
       "      <td>3</td>\n",
       "    </tr>\n",
       "    <tr>\n",
       "      <th>75-79</th>\n",
       "      <th>Extranjero</th>\n",
       "      <th>femenino</th>\n",
       "      <th>De Aysen Del General Carlos Ibañez Del Campo</th>\n",
       "      <td>6</td>\n",
       "    </tr>\n",
       "    <tr>\n",
       "      <th>25-29</th>\n",
       "      <th>Extranjero</th>\n",
       "      <th>masculino</th>\n",
       "      <th>De Aysen Del General Carlos Ibañez Del Campo</th>\n",
       "      <td>10</td>\n",
       "    </tr>\n",
       "    <tr>\n",
       "      <th>75-79</th>\n",
       "      <th>Extranjero</th>\n",
       "      <th>masculino</th>\n",
       "      <th>De Aysen Del General Carlos Ibañez Del Campo</th>\n",
       "      <td>10</td>\n",
       "    </tr>\n",
       "    <tr>\n",
       "      <th>18-24</th>\n",
       "      <th>Extranjero</th>\n",
       "      <th>femenino</th>\n",
       "      <th>De Aysen Del General Carlos Ibañez Del Campo</th>\n",
       "      <td>12</td>\n",
       "    </tr>\n",
       "    <tr>\n",
       "      <th>...</th>\n",
       "      <th>...</th>\n",
       "      <th>...</th>\n",
       "      <th>...</th>\n",
       "      <td>...</td>\n",
       "    </tr>\n",
       "    <tr>\n",
       "      <th>30-34</th>\n",
       "      <th>Chile</th>\n",
       "      <th>femenino</th>\n",
       "      <th>Metropolitana De Santiago</th>\n",
       "      <td>282399</td>\n",
       "    </tr>\n",
       "    <tr>\n",
       "      <th>25-29</th>\n",
       "      <th>Chile</th>\n",
       "      <th>masculino</th>\n",
       "      <th>Metropolitana De Santiago</th>\n",
       "      <td>283588</td>\n",
       "    </tr>\n",
       "    <tr>\n",
       "      <th>30-34</th>\n",
       "      <th>Chile</th>\n",
       "      <th>masculino</th>\n",
       "      <th>Metropolitana De Santiago</th>\n",
       "      <td>288647</td>\n",
       "    </tr>\n",
       "    <tr>\n",
       "      <th rowspan=\"2\" valign=\"top\">18-24</th>\n",
       "      <th rowspan=\"2\" valign=\"top\">Chile</th>\n",
       "      <th>femenino</th>\n",
       "      <th>Metropolitana De Santiago</th>\n",
       "      <td>341967</td>\n",
       "    </tr>\n",
       "    <tr>\n",
       "      <th>masculino</th>\n",
       "      <th>Metropolitana De Santiago</th>\n",
       "      <td>352200</td>\n",
       "    </tr>\n",
       "  </tbody>\n",
       "</table>\n",
       "<p>832 rows × 1 columns</p>\n",
       "</div>"
      ],
      "text/plain": [
       "                                                                                   Número de registros\n",
       "Rango_Edad Pais Nacimiento Sexo      Region                                                           \n",
       "70-74      Extranjero      femenino  De Aysen Del General Carlos Ibañez Del Campo                    3\n",
       "75-79      Extranjero      femenino  De Aysen Del General Carlos Ibañez Del Campo                    6\n",
       "25-29      Extranjero      masculino De Aysen Del General Carlos Ibañez Del Campo                   10\n",
       "75-79      Extranjero      masculino De Aysen Del General Carlos Ibañez Del Campo                   10\n",
       "18-24      Extranjero      femenino  De Aysen Del General Carlos Ibañez Del Campo                   12\n",
       "...                                                                                                ...\n",
       "30-34      Chile           femenino  Metropolitana De Santiago                                  282399\n",
       "25-29      Chile           masculino Metropolitana De Santiago                                  283588\n",
       "30-34      Chile           masculino Metropolitana De Santiago                                  288647\n",
       "18-24      Chile           femenino  Metropolitana De Santiago                                  341967\n",
       "                           masculino Metropolitana De Santiago                                  352200\n",
       "\n",
       "[832 rows x 1 columns]"
      ]
     },
     "execution_count": 25,
     "metadata": {},
     "output_type": "execute_result"
    }
   ],
   "source": [
    "p5_2=cambio_edad[['Rango_Edad', 'Pais Nacimiento', 'Sexo' , 'Region','Número de registros']].groupby(['Rango_Edad', 'Pais Nacimiento', 'Sexo' , 'Region']).count().sort_values('Número de registros')\n",
    "p5_2"
   ]
  },
  {
   "cell_type": "markdown",
   "metadata": {},
   "source": [
    "Notamos que obtuvimos 3-anonimato, cumpliendo lo pedido."
   ]
  },
  {
   "cell_type": "markdown",
   "metadata": {
    "id": "bzVjtryAA3b0"
   },
   "source": [
    "# Pregunta 6\n",
    "Calcule el nivel de $l$-diversidad de la tabla anonimizada obtenida en la pregunta anterior."
   ]
  },
  {
   "cell_type": "code",
   "execution_count": 26,
   "metadata": {},
   "outputs": [
    {
     "data": {
      "text/html": [
       "<div>\n",
       "<style scoped>\n",
       "    .dataframe tbody tr th:only-of-type {\n",
       "        vertical-align: middle;\n",
       "    }\n",
       "\n",
       "    .dataframe tbody tr th {\n",
       "        vertical-align: top;\n",
       "    }\n",
       "\n",
       "    .dataframe thead th {\n",
       "        text-align: right;\n",
       "    }\n",
       "</style>\n",
       "<table border=\"1\" class=\"dataframe\">\n",
       "  <thead>\n",
       "    <tr style=\"text-align: right;\">\n",
       "      <th></th>\n",
       "      <th>Rango_Edad</th>\n",
       "      <th>Pais Nacimiento</th>\n",
       "      <th>Sexo</th>\n",
       "      <th>Region</th>\n",
       "      <th>Votaron</th>\n",
       "    </tr>\n",
       "  </thead>\n",
       "  <tbody>\n",
       "    <tr>\n",
       "      <th>739</th>\n",
       "      <td>75-79</td>\n",
       "      <td>Extranjero</td>\n",
       "      <td>femenino</td>\n",
       "      <td>De Aysen Del General Carlos Ibañez Del Campo</td>\n",
       "      <td>1</td>\n",
       "    </tr>\n",
       "    <tr>\n",
       "      <th>675</th>\n",
       "      <td>70-74</td>\n",
       "      <td>Extranjero</td>\n",
       "      <td>femenino</td>\n",
       "      <td>De Aysen Del General Carlos Ibañez Del Campo</td>\n",
       "      <td>1</td>\n",
       "    </tr>\n",
       "    <tr>\n",
       "      <th>808</th>\n",
       "      <td>80 o +</td>\n",
       "      <td>Extranjero</td>\n",
       "      <td>femenino</td>\n",
       "      <td>De Magallanes Y De La Antartica Chilena</td>\n",
       "      <td>1</td>\n",
       "    </tr>\n",
       "    <tr>\n",
       "      <th>819</th>\n",
       "      <td>80 o +</td>\n",
       "      <td>Extranjero</td>\n",
       "      <td>masculino</td>\n",
       "      <td>De Aysen Del General Carlos Ibañez Del Campo</td>\n",
       "      <td>1</td>\n",
       "    </tr>\n",
       "    <tr>\n",
       "      <th>802</th>\n",
       "      <td>80 o +</td>\n",
       "      <td>Extranjero</td>\n",
       "      <td>femenino</td>\n",
       "      <td>De Atacama</td>\n",
       "      <td>1</td>\n",
       "    </tr>\n",
       "    <tr>\n",
       "      <th>...</th>\n",
       "      <td>...</td>\n",
       "      <td>...</td>\n",
       "      <td>...</td>\n",
       "      <td>...</td>\n",
       "      <td>...</td>\n",
       "    </tr>\n",
       "    <tr>\n",
       "      <th>281</th>\n",
       "      <td>40-44</td>\n",
       "      <td>Chile</td>\n",
       "      <td>masculino</td>\n",
       "      <td>De Tarapaca</td>\n",
       "      <td>2</td>\n",
       "    </tr>\n",
       "    <tr>\n",
       "      <th>282</th>\n",
       "      <td>40-44</td>\n",
       "      <td>Chile</td>\n",
       "      <td>masculino</td>\n",
       "      <td>De Valparaiso</td>\n",
       "      <td>2</td>\n",
       "    </tr>\n",
       "    <tr>\n",
       "      <th>283</th>\n",
       "      <td>40-44</td>\n",
       "      <td>Chile</td>\n",
       "      <td>masculino</td>\n",
       "      <td>De Ñuble</td>\n",
       "      <td>2</td>\n",
       "    </tr>\n",
       "    <tr>\n",
       "      <th>830</th>\n",
       "      <td>80 o +</td>\n",
       "      <td>Extranjero</td>\n",
       "      <td>masculino</td>\n",
       "      <td>Del Maule</td>\n",
       "      <td>2</td>\n",
       "    </tr>\n",
       "    <tr>\n",
       "      <th>831</th>\n",
       "      <td>80 o +</td>\n",
       "      <td>Extranjero</td>\n",
       "      <td>masculino</td>\n",
       "      <td>Metropolitana De Santiago</td>\n",
       "      <td>2</td>\n",
       "    </tr>\n",
       "  </tbody>\n",
       "</table>\n",
       "<p>832 rows × 5 columns</p>\n",
       "</div>"
      ],
      "text/plain": [
       "    Rango_Edad Pais Nacimiento       Sexo  \\\n",
       "739      75-79      Extranjero   femenino   \n",
       "675      70-74      Extranjero   femenino   \n",
       "808     80 o +      Extranjero   femenino   \n",
       "819     80 o +      Extranjero  masculino   \n",
       "802     80 o +      Extranjero   femenino   \n",
       "..         ...             ...        ...   \n",
       "281      40-44           Chile  masculino   \n",
       "282      40-44           Chile  masculino   \n",
       "283      40-44           Chile  masculino   \n",
       "830     80 o +      Extranjero  masculino   \n",
       "831     80 o +      Extranjero  masculino   \n",
       "\n",
       "                                           Region  Votaron  \n",
       "739  De Aysen Del General Carlos Ibañez Del Campo        1  \n",
       "675  De Aysen Del General Carlos Ibañez Del Campo        1  \n",
       "808       De Magallanes Y De La Antartica Chilena        1  \n",
       "819  De Aysen Del General Carlos Ibañez Del Campo        1  \n",
       "802                                    De Atacama        1  \n",
       "..                                            ...      ...  \n",
       "281                                   De Tarapaca        2  \n",
       "282                                 De Valparaiso        2  \n",
       "283                                      De Ñuble        2  \n",
       "830                                     Del Maule        2  \n",
       "831                     Metropolitana De Santiago        2  \n",
       "\n",
       "[832 rows x 5 columns]"
      ]
     },
     "execution_count": 26,
     "metadata": {},
     "output_type": "execute_result"
    }
   ],
   "source": [
    "p6=cambio_edad\n",
    "p6.groupby(['Rango_Edad', 'Pais Nacimiento', 'Sexo' , 'Region']).Votaron.nunique().reset_index().sort_values(['Votaron'])"
   ]
  },
  {
   "cell_type": "code",
   "execution_count": 27,
   "metadata": {},
   "outputs": [
    {
     "name": "stdout",
     "output_type": "stream",
     "text": [
      "El nivel de l-diversidad obtenido fue de 1\n"
     ]
    }
   ],
   "source": [
    "print(f\"El nivel de l-diversidad obtenido fue de 1\")"
   ]
  },
  {
   "cell_type": "markdown",
   "metadata": {
    "id": "uvuYGuwMOKf0"
   },
   "source": [
    "# Pregunta 7\n",
    "Compute la cantidad de personas que votaron por cada grupo distinto de quasi-identificadores (sin generalizar). Para publicar estos datos debe usar un algoritmo que sea $0.1$-diferencialmente privado ($\\epsilon=0.1$). Asegurese de no devolver resultados\n",
    "\n",
    "Hint: usualmente la sensibilidad de una consulta de conteo es 1, y puede usar la distribución de laplace para agregar ruido."
   ]
  },
  {
   "cell_type": "code",
   "execution_count": 28,
   "metadata": {
    "id": "phVpM3lCP7xv"
   },
   "outputs": [],
   "source": [
    "import numpy as np"
   ]
  },
  {
   "cell_type": "code",
   "execution_count": 29,
   "metadata": {},
   "outputs": [],
   "source": [
    "p7_1=df[df['Votaron']==1.0]\n"
   ]
  },
  {
   "cell_type": "code",
   "execution_count": 30,
   "metadata": {},
   "outputs": [
    {
     "data": {
      "text/html": [
       "<div>\n",
       "<style scoped>\n",
       "    .dataframe tbody tr th:only-of-type {\n",
       "        vertical-align: middle;\n",
       "    }\n",
       "\n",
       "    .dataframe tbody tr th {\n",
       "        vertical-align: top;\n",
       "    }\n",
       "\n",
       "    .dataframe thead th {\n",
       "        text-align: right;\n",
       "    }\n",
       "</style>\n",
       "<table border=\"1\" class=\"dataframe\">\n",
       "  <thead>\n",
       "    <tr style=\"text-align: right;\">\n",
       "      <th></th>\n",
       "      <th>Edad</th>\n",
       "      <th>Pais Nacimiento</th>\n",
       "      <th>Sexo</th>\n",
       "      <th>Comuna</th>\n",
       "      <th>contar</th>\n",
       "      <th>contardp</th>\n",
       "    </tr>\n",
       "  </thead>\n",
       "  <tbody>\n",
       "    <tr>\n",
       "      <th>42534</th>\n",
       "      <td>50</td>\n",
       "      <td>Brasil</td>\n",
       "      <td>femenino</td>\n",
       "      <td>Macul</td>\n",
       "      <td>1</td>\n",
       "      <td>3</td>\n",
       "    </tr>\n",
       "    <tr>\n",
       "      <th>39196</th>\n",
       "      <td>47</td>\n",
       "      <td>Peru</td>\n",
       "      <td>masculino</td>\n",
       "      <td>Curico</td>\n",
       "      <td>1</td>\n",
       "      <td>8</td>\n",
       "    </tr>\n",
       "    <tr>\n",
       "      <th>39197</th>\n",
       "      <td>47</td>\n",
       "      <td>Peru</td>\n",
       "      <td>masculino</td>\n",
       "      <td>El Bosque</td>\n",
       "      <td>1</td>\n",
       "      <td>0</td>\n",
       "    </tr>\n",
       "    <tr>\n",
       "      <th>39202</th>\n",
       "      <td>47</td>\n",
       "      <td>Peru</td>\n",
       "      <td>masculino</td>\n",
       "      <td>La Cisterna</td>\n",
       "      <td>1</td>\n",
       "      <td>10</td>\n",
       "    </tr>\n",
       "    <tr>\n",
       "      <th>39211</th>\n",
       "      <td>47</td>\n",
       "      <td>Peru</td>\n",
       "      <td>masculino</td>\n",
       "      <td>Los Andes</td>\n",
       "      <td>1</td>\n",
       "      <td>3</td>\n",
       "    </tr>\n",
       "    <tr>\n",
       "      <th>...</th>\n",
       "      <td>...</td>\n",
       "      <td>...</td>\n",
       "      <td>...</td>\n",
       "      <td>...</td>\n",
       "      <td>...</td>\n",
       "      <td>...</td>\n",
       "    </tr>\n",
       "    <tr>\n",
       "      <th>9622</th>\n",
       "      <td>27</td>\n",
       "      <td>Chile</td>\n",
       "      <td>femenino</td>\n",
       "      <td>Maipu</td>\n",
       "      <td>3240</td>\n",
       "      <td>3236</td>\n",
       "    </tr>\n",
       "    <tr>\n",
       "      <th>11976</th>\n",
       "      <td>29</td>\n",
       "      <td>Chile</td>\n",
       "      <td>femenino</td>\n",
       "      <td>Puente Alto</td>\n",
       "      <td>3264</td>\n",
       "      <td>3267</td>\n",
       "    </tr>\n",
       "    <tr>\n",
       "      <th>7560</th>\n",
       "      <td>25</td>\n",
       "      <td>Chile</td>\n",
       "      <td>femenino</td>\n",
       "      <td>Puente Alto</td>\n",
       "      <td>3267</td>\n",
       "      <td>3262</td>\n",
       "    </tr>\n",
       "    <tr>\n",
       "      <th>10743</th>\n",
       "      <td>28</td>\n",
       "      <td>Chile</td>\n",
       "      <td>femenino</td>\n",
       "      <td>Maipu</td>\n",
       "      <td>3302</td>\n",
       "      <td>3307</td>\n",
       "    </tr>\n",
       "    <tr>\n",
       "      <th>8611</th>\n",
       "      <td>26</td>\n",
       "      <td>Chile</td>\n",
       "      <td>femenino</td>\n",
       "      <td>Puente Alto</td>\n",
       "      <td>3313</td>\n",
       "      <td>3311</td>\n",
       "    </tr>\n",
       "  </tbody>\n",
       "</table>\n",
       "<p>85069 rows × 6 columns</p>\n",
       "</div>"
      ],
      "text/plain": [
       "       Edad Pais Nacimiento       Sexo       Comuna  contar  contardp\n",
       "42534    50          Brasil   femenino        Macul       1         3\n",
       "39196    47            Peru  masculino       Curico       1         8\n",
       "39197    47            Peru  masculino    El Bosque       1         0\n",
       "39202    47            Peru  masculino  La Cisterna       1        10\n",
       "39211    47            Peru  masculino    Los Andes       1         3\n",
       "...     ...             ...        ...          ...     ...       ...\n",
       "9622     27           Chile   femenino        Maipu    3240      3236\n",
       "11976    29           Chile   femenino  Puente Alto    3264      3267\n",
       "7560     25           Chile   femenino  Puente Alto    3267      3262\n",
       "10743    28           Chile   femenino        Maipu    3302      3307\n",
       "8611     26           Chile   femenino  Puente Alto    3313      3311\n",
       "\n",
       "[85069 rows x 6 columns]"
      ]
     },
     "execution_count": 30,
     "metadata": {},
     "output_type": "execute_result"
    }
   ],
   "source": [
    "p7_2= p7_1\n",
    "p7_2 = p7_2.groupby(['Edad', 'Pais Nacimiento', 'Sexo' , 'Comuna']).size().reset_index(name='contar').sort_values(['contar'])\n",
    "p7_2['contardp'] = p7_2['contar'].map(lambda x:round(max(0,x + np.random.laplace(loc=0, scale=1/0.1))))\n",
    "p7_2"
   ]
  },
  {
   "cell_type": "markdown",
   "metadata": {},
   "source": [
    "Se puede notar que para grupos muy chicos las respuestas son poco útiles ya que el ruido distorciona mucho la respuesta real. Pero esto esta bien desde el punto de privacidad ya que los grupos muy chicos son muy selectivos y por ende tienen una gran probabilidad de violar privacidad. <br>\n",
    "Mientras que para grupos grandes es bastante útil ya que se aproxima muy bien los resultados."
   ]
  },
  {
   "cell_type": "markdown",
   "metadata": {
    "id": "uf9ffsrMSiqL"
   },
   "source": [
    "# Pregunta 8\n",
    "A continuación hay dos transacciones T1 y T2 en las cuales A, B y C son tres valores distintos en la base de datos.\n",
    "\n",
    "| T1 | T2   |\n",
    "|------|------|\n",
    "|   R(A)  | R(A) |\n",
    "|   W(B, A*2)  | W(A, A-5) |\n",
    "|   R(C)  | R(C) |\n",
    "|   W(C, C-100)  | W(C, C+A)|\n",
    "\n",
    "Donde 'R(A)' representa la lectura del valor 'A', y 'W(A,B)' representa la escritura de 'A' con el valor 'B' (i.e. escribir 'B' en 'A').\n",
    "\n",
    "Para los siguientes tipos de conflictos indique si es posible que ocurra:\n",
    "\n",
    "\n",
    "\n",
    "\n",
    "\n",
    "\n"
   ]
  },
  {
   "cell_type": "markdown",
   "metadata": {
    "id": "0r51TCkVT3Hj"
   },
   "source": [
    "1.   Escritura-lectura (WR)\n"
   ]
  },
  {
   "cell_type": "markdown",
   "metadata": {},
   "source": [
    "Podemos notar que esto no podrá ocurrir. Esto debido a que en las transacciones correspondiente nunca se aborta la transacción. "
   ]
  },
  {
   "cell_type": "markdown",
   "metadata": {
    "id": "BWHZbO2XTy98"
   },
   "source": [
    "2.   Lectura-escritura (RW)\n"
   ]
  },
  {
   "cell_type": "markdown",
   "metadata": {},
   "source": [
    "Podemos notar que esto no podría ocurrir ya que las transacciones no se pueden volver a repetir, y para que pase este tipo de problema se debería leer 2 veces la misma operación en la misma transacción, sin embargo si bien se lee en 2 oportunidades en cada transacción, ninguna lee el mismo valor por lo que es imposible que ocurra este conflicto."
   ]
  },
  {
   "cell_type": "markdown",
   "metadata": {
    "id": "U37S4szLTz3v"
   },
   "source": [
    "\n",
    "3.   Escritura-escritura (WW)"
   ]
  },
  {
   "cell_type": "markdown",
   "metadata": {},
   "source": [
    "\n",
    "Podemos notar que este tipo de conflicto no es posible, si es que estamos frente a algún schedule. Ya que para que esto ocurra debería existir un orden: <br> R(a) $\\rightarrow$ R(b) $\\rightarrow$ W(b) $\\rightarrow$ W(a) <br>\n",
    "Sin embargo, en schedule serializable no ocurre, mientras en los que no, son permutaciones no permitidas."
   ]
  }
 ],
 "metadata": {
  "colab": {
   "collapsed_sections": [],
   "name": "Control_3.ipynb",
   "provenance": []
  },
  "kernelspec": {
   "display_name": "Python 3 (ipykernel)",
   "language": "python",
   "name": "python3"
  },
  "language_info": {
   "codemirror_mode": {
    "name": "ipython",
    "version": 3
   },
   "file_extension": ".py",
   "mimetype": "text/x-python",
   "name": "python",
   "nbconvert_exporter": "python",
   "pygments_lexer": "ipython3",
   "version": "3.8.10"
  }
 },
 "nbformat": 4,
 "nbformat_minor": 1
}
